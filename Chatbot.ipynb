{
  "nbformat": 4,
  "nbformat_minor": 0,
  "metadata": {
    "colab": {
      "provenance": [],
      "toc_visible": true,
      "authorship_tag": "ABX9TyMTLkXjvJ8tE4xpOury6N3o",
      "include_colab_link": true
    },
    "kernelspec": {
      "name": "python3",
      "display_name": "Python 3"
    },
    "language_info": {
      "name": "python"
    }
  },
  "cells": [
    {
      "cell_type": "markdown",
      "metadata": {
        "id": "view-in-github",
        "colab_type": "text"
      },
      "source": [
        "<a href=\"https://colab.research.google.com/github/ZaidRaza3/Codsoft/blob/main/Chatbot.ipynb\" target=\"_parent\"><img src=\"https://colab.research.google.com/assets/colab-badge.svg\" alt=\"Open In Colab\"/></a>"
      ]
    },
    {
      "cell_type": "markdown",
      "source": [
        "Let's begin with defining random."
      ],
      "metadata": {
        "id": "GjtEmwEvaNya"
      }
    },
    {
      "cell_type": "code",
      "source": [
        "import random\n",
        "def random_response(responses):\n",
        "    return random.choice(responses)"
      ],
      "metadata": {
        "id": "TECnXxV_Z7PY"
      },
      "execution_count": null,
      "outputs": []
    },
    {
      "cell_type": "markdown",
      "source": [
        "Let's Generate some responses accordingly."
      ],
      "metadata": {
        "id": "mRaNBLgkaZnA"
      }
    },
    {
      "cell_type": "code",
      "source": [
        "GREETING_RESPONSES = [\"Hello!\", \"Hi there!\", \"Hey!\", \"Greetings!\",\"YO!\",]"
      ],
      "metadata": {
        "id": "JRQCyp8NM5DZ"
      },
      "execution_count": null,
      "outputs": []
    },
    {
      "cell_type": "code",
      "source": [
        "HOW_ARE_YOU_RESPONSES = [\"I'm doing well, thank you!\", \"I'm fine, thanks for asking.\", \"All good on my end!\"]"
      ],
      "metadata": {
        "id": "Wbj-aJauRmBI"
      },
      "execution_count": null,
      "outputs": []
    },
    {
      "cell_type": "code",
      "source": [
        "BYE_RESPONSES = [\"Goodbye!\", \"Take Care!\", \"See you later!\",\"See You Soon!\"]"
      ],
      "metadata": {
        "id": "DQVEfgmYcAaf"
      },
      "execution_count": null,
      "outputs": []
    },
    {
      "cell_type": "code",
      "source": [
        "UNKNOWN_RESPONSES = [\"I'm sorry, I don't understand.\", \"I'm sorry, I don't have any clue about what you are asking.\", \"I'm not sure what you mean.\",]"
      ],
      "metadata": {
        "id": "EEnMolUocD6C"
      },
      "execution_count": null,
      "outputs": []
    },
    {
      "cell_type": "code",
      "source": [
        "def chatbot_response(user_input):\n",
        "    if \"hello\" in user_input.lower():\n",
        "        return random_response(GREETING_RESPONSES)\n",
        "    elif \"how are you\" in user_input.lower():\n",
        "        return random_response(HOW_ARE_YOU_RESPONSES)\n",
        "    elif \"bye\" in user_input.lower():\n",
        "        return random_response(BYE_RESPONSES)\n",
        "    else:\n",
        "        return random_response(UNKNOWN_RESPONSES)"
      ],
      "metadata": {
        "id": "xLUz4Lk2c8ER"
      },
      "execution_count": null,
      "outputs": []
    },
    {
      "cell_type": "markdown",
      "source": [
        "Let's define the Main Function."
      ],
      "metadata": {
        "id": "cOyJXjU8ap7i"
      }
    },
    {
      "cell_type": "code",
      "source": [
        "def main():\n",
        "    print(\"Welcome to Rule Based Chatbot\")\n",
        "    print(\"Type 'bye' to exit.\")\n",
        "\n",
        "    while True:\n",
        "        user_input = input(\"You: \")\n",
        "        if user_input.lower() == 'bye':\n",
        "            print(\"Bot:\", chatbot_response(user_input))\n",
        "            break\n",
        "        else:\n",
        "            print(\"Bot:\", chatbot_response(user_input))\n",
        "\n",
        "if __name__ == \"__main__\":\n",
        "    main()"
      ],
      "metadata": {
        "colab": {
          "base_uri": "https://localhost:8080/"
        },
        "id": "AFtkVsdMdITB",
        "outputId": "d3d07cec-91f5-433b-a70e-be2aff501e06"
      },
      "execution_count": null,
      "outputs": [
        {
          "output_type": "stream",
          "name": "stdout",
          "text": [
            "Welcome to Rule Based Chatbot\n",
            "Type 'bye' to exit.\n",
            "You: bye\n",
            "Bot: See You Soon!\n"
          ]
        }
      ]
    }
  ]
}