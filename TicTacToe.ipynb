{
  "nbformat": 4,
  "nbformat_minor": 0,
  "metadata": {
    "colab": {
      "provenance": [],
      "authorship_tag": "ABX9TyOCRnEYRuOhRdPqYSPfd2Ma",
      "include_colab_link": true
    },
    "kernelspec": {
      "name": "python3",
      "display_name": "Python 3"
    },
    "language_info": {
      "name": "python"
    }
  },
  "cells": [
    {
      "cell_type": "markdown",
      "metadata": {
        "id": "view-in-github",
        "colab_type": "text"
      },
      "source": [
        "<a href=\"https://colab.research.google.com/github/ZaidRaza3/Codsoft/blob/main/TicTacToe.ipynb\" target=\"_parent\"><img src=\"https://colab.research.google.com/assets/colab-badge.svg\" alt=\"Open In Colab\"/></a>"
      ]
    },
    {
      "cell_type": "markdown",
      "source": [
        " **Tic-Tac-Toe using Mini-Max**"
      ],
      "metadata": {
        "id": "6q9lGtzWvl8_"
      }
    },
    {
      "cell_type": "markdown",
      "source": [
        "Firstly we have to define the board and the range of the placement points on it."
      ],
      "metadata": {
        "id": "rzZzo_F2zWIL"
      }
    },
    {
      "cell_type": "code",
      "source": [
        "def Board(board):\n",
        "    print(\"State of the Board : \\n\\n\");\n",
        "    for i in range (0,9):\n",
        "        if((i>0) and (i%3)==0):\n",
        "            print(\"\\n\");\n",
        "        if(board[i]==0):\n",
        "            print(\"- \",end=\" \");\n",
        "        if (board[i]==1):\n",
        "            print(\"O \",end=\" \");\n",
        "        if(board[i]==-1):\n",
        "            print(\"X \",end=\" \");\n",
        "    print(\"\\n\\n\");"
      ],
      "metadata": {
        "id": "0UYfRgjGxMXG"
      },
      "execution_count": 7,
      "outputs": []
    },
    {
      "cell_type": "markdown",
      "source": [
        "This function takes the user move as input and make the required changes on the board."
      ],
      "metadata": {
        "id": "4ld7Q9cWym6O"
      }
    },
    {
      "cell_type": "code",
      "source": [
        "def User1(board):\n",
        "    pos=input(\"Enter X's position from [1-9]: \");\n",
        "    pos=int(pos);\n",
        "    if(board[pos-1]!=0):\n",
        "        print(\"Invalid Move!\");\n",
        "        exit(0) ;\n",
        "    board[pos-1]=-1;"
      ],
      "metadata": {
        "id": "x6VnevEKxaiA"
      },
      "execution_count": 8,
      "outputs": []
    },
    {
      "cell_type": "code",
      "source": [
        "def User2(board):\n",
        "    pos=input(\"Enter O's position from [1-9]: \");\n",
        "    pos=int(pos);\n",
        "    if(board[pos-1]!=0):\n",
        "        print(\"Invalid Move!\");\n",
        "        exit(0);\n",
        "    board[pos-1]=1;"
      ],
      "metadata": {
        "id": "nP39zdU-xdFx"
      },
      "execution_count": 9,
      "outputs": []
    },
    {
      "cell_type": "markdown",
      "source": [
        "Let's define the MinMax function."
      ],
      "metadata": {
        "id": "5CP9BKmMyy2O"
      }
    },
    {
      "cell_type": "code",
      "source": [
        "def minimax(board,player):\n",
        "    x=analyze(board);\n",
        "    if(x!=0):\n",
        "        return (x*player);\n",
        "    pos=-1;\n",
        "    value=-2;\n",
        "    for i in range(0,9):\n",
        "        if(board[i]==0):\n",
        "            board[i]=player;\n",
        "            score=-minimax(board,(player*-1));\n",
        "            if(score>value):\n",
        "                value=score;\n",
        "                pos=i;\n",
        "            board[i]=0;\n",
        "\n",
        "    if(pos==-1):\n",
        "        return 0;\n",
        "    return value;"
      ],
      "metadata": {
        "id": "mNZUbGQnxk3_"
      },
      "execution_count": 12,
      "outputs": []
    },
    {
      "cell_type": "code",
      "source": [
        "def analyze(board):\n",
        "    cb=[[0,1,2],[3,4,5],[6,7,8],[0,3,6],[1,4,7],[2,5,8],[0,4,8],[2,4,6]];\n",
        "\n",
        "    for i in range(0,8):\n",
        "        if(board[cb[i][0]] != 0 and\n",
        "           board[cb[i][0]] == board[cb[i][1]] and\n",
        "           board[cb[i][0]] == board[cb[i][2]]):\n",
        "            return board[cb[i][2]];\n",
        "    return 0;"
      ],
      "metadata": {
        "id": "SntwgwPAxtzl"
      },
      "execution_count": 13,
      "outputs": []
    },
    {
      "cell_type": "markdown",
      "source": [
        "For 1 player we have to enable the computer to make moves on it's own.\n"
      ],
      "metadata": {
        "id": "Dz8kY-pqzzwV"
      }
    },
    {
      "cell_type": "markdown",
      "source": [
        "This function makes the computer's move using minmax algorithm."
      ],
      "metadata": {
        "id": "yXixU_aN0B-3"
      }
    },
    {
      "cell_type": "code",
      "source": [
        "def Computer(board):\n",
        "    pos=-1;\n",
        "    value=-2;\n",
        "    for i in range(0,9):\n",
        "        if(board[i]==0):\n",
        "            board[i]=1;\n",
        "            score=-minimax(board, -1);\n",
        "            board[i]=0;\n",
        "            if(score>value):\n",
        "                value=score;\n",
        "                pos=i;\n",
        "\n",
        "    board[pos]=1;"
      ],
      "metadata": {
        "id": "yja2heNkxwGp"
      },
      "execution_count": 14,
      "outputs": []
    },
    {
      "cell_type": "markdown",
      "source": [
        "Let's define the Main Function."
      ],
      "metadata": {
        "id": "pqZOiEZ90Nch"
      }
    },
    {
      "cell_type": "code",
      "source": [
        "def main():\n",
        "    choice=input(\"Enter 1 for single player, 2 for multiplayer: \");\n",
        "    choice=int(choice);\n",
        "    #The broad is considered in the form of a single dimentional array.\n",
        "    #One player moves 1 and other move -1.\n",
        "    board=[0,0,0,0,0,0,0,0,0];\n",
        "    if(choice==1):\n",
        "        print(\"Computer : O Vs. You : X\");\n",
        "        player= input(\"Enter to play 1(st) or 2(nd) :\");\n",
        "        player = int(player);\n",
        "        for i in range (0,9):\n",
        "            if(analyze(board)!=0):\n",
        "                break;\n",
        "            if((i+player)%2==0):\n",
        "                Computer(board);\n",
        "            else:\n",
        "                Board(board);\n",
        "                User1(board);\n",
        "    else:\n",
        "        for i in range (0,9):\n",
        "            if(analyze(board)!=0):\n",
        "                break;\n",
        "            if((i)%2==0):\n",
        "                Board(board);\n",
        "                User1(board);\n",
        "            else:\n",
        "                Board(board);\n",
        "                User2(board);\n",
        "\n",
        "\n",
        "    x=analyze(board);\n",
        "    if(x==0):\n",
        "         Board(board);\n",
        "         print(\"Draw!!!\")\n",
        "    if(x==-1):\n",
        "         Board(board);\n",
        "         print(\"X Wins!!! Y Loses !!!\")\n",
        "    if(x==1):\n",
        "         Board(board);\n",
        "         print(\"X Loses!!! O Wins !!!!\")\n",
        "main()"
      ],
      "metadata": {
        "id": "GSH2XbHqx4O2",
        "colab": {
          "base_uri": "https://localhost:8080/"
        },
        "outputId": "986f3823-6763-4d45-aba4-e7d97116815d"
      },
      "execution_count": 21,
      "outputs": [
        {
          "output_type": "stream",
          "name": "stdout",
          "text": [
            "Enter 1 for single player, 2 for multiplayer: 1\n",
            "Computer : O Vs. You : X\n",
            "Enter to play 1(st) or 2(nd) :2\n",
            "State of the Board : \n",
            "\n",
            "\n",
            "O  -  -  \n",
            "\n",
            "-  -  -  \n",
            "\n",
            "-  -  -  \n",
            "\n",
            "\n",
            "Enter X's position from [1-9]: 7\n",
            "State of the Board : \n",
            "\n",
            "\n",
            "O  O  -  \n",
            "\n",
            "-  -  -  \n",
            "\n",
            "X  -  -  \n",
            "\n",
            "\n",
            "Enter X's position from [1-9]: 3\n",
            "State of the Board : \n",
            "\n",
            "\n",
            "O  O  X  \n",
            "\n",
            "-  O  -  \n",
            "\n",
            "X  -  -  \n",
            "\n",
            "\n",
            "Enter X's position from [1-9]: 8\n",
            "State of the Board : \n",
            "\n",
            "\n",
            "O  O  X  \n",
            "\n",
            "-  O  -  \n",
            "\n",
            "X  X  O  \n",
            "\n",
            "\n",
            "X Loses!!! O Wins !!!!\n"
          ]
        }
      ]
    },
    {
      "cell_type": "code",
      "source": [],
      "metadata": {
        "id": "GggfqYfW3B9E"
      },
      "execution_count": null,
      "outputs": []
    }
  ]
}